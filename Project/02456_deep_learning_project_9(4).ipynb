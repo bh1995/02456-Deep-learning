{
  "nbformat": 4,
  "nbformat_minor": 0,
  "metadata": {
    "colab": {
      "name": "02456_deep_learning_project_9(3).ipynb",
      "provenance": [],
      "collapsed_sections": []
    },
    "kernelspec": {
      "name": "python3",
      "display_name": "Python 3"
    },
    "accelerator": "GPU",
    "widgets": {
      "application/vnd.jupyter.widget-state+json": {
        "5686a3464f18414fa085c2295078c0a0": {
          "model_module": "@jupyter-widgets/controls",
          "model_name": "HBoxModel",
          "state": {
            "_view_name": "HBoxView",
            "_dom_classes": [],
            "_model_name": "HBoxModel",
            "_view_module": "@jupyter-widgets/controls",
            "_model_module_version": "1.5.0",
            "_view_count": null,
            "_view_module_version": "1.5.0",
            "box_style": "",
            "layout": "IPY_MODEL_281dea66dfeb4f5c87edd8de34322461",
            "_model_module": "@jupyter-widgets/controls",
            "children": [
              "IPY_MODEL_e5717e7411c144379d4d4c4b955d0281",
              "IPY_MODEL_244b402219394f8e867eb16cee763d8a"
            ]
          }
        },
        "281dea66dfeb4f5c87edd8de34322461": {
          "model_module": "@jupyter-widgets/base",
          "model_name": "LayoutModel",
          "state": {
            "_view_name": "LayoutView",
            "grid_template_rows": null,
            "right": null,
            "justify_content": null,
            "_view_module": "@jupyter-widgets/base",
            "overflow": null,
            "_model_module_version": "1.2.0",
            "_view_count": null,
            "flex_flow": null,
            "width": null,
            "min_width": null,
            "border": null,
            "align_items": null,
            "bottom": null,
            "_model_module": "@jupyter-widgets/base",
            "top": null,
            "grid_column": null,
            "overflow_y": null,
            "overflow_x": null,
            "grid_auto_flow": null,
            "grid_area": null,
            "grid_template_columns": null,
            "flex": null,
            "_model_name": "LayoutModel",
            "justify_items": null,
            "grid_row": null,
            "max_height": null,
            "align_content": null,
            "visibility": null,
            "align_self": null,
            "height": null,
            "min_height": null,
            "padding": null,
            "grid_auto_rows": null,
            "grid_gap": null,
            "max_width": null,
            "order": null,
            "_view_module_version": "1.2.0",
            "grid_template_areas": null,
            "object_position": null,
            "object_fit": null,
            "grid_auto_columns": null,
            "margin": null,
            "display": null,
            "left": null
          }
        },
        "e5717e7411c144379d4d4c4b955d0281": {
          "model_module": "@jupyter-widgets/controls",
          "model_name": "FloatProgressModel",
          "state": {
            "_view_name": "ProgressView",
            "style": "IPY_MODEL_025fd012b50b407d8dc6c1bf87924b1b",
            "_dom_classes": [],
            "description": "100%",
            "_model_name": "FloatProgressModel",
            "bar_style": "success",
            "max": 35,
            "_view_module": "@jupyter-widgets/controls",
            "_model_module_version": "1.5.0",
            "value": 35,
            "_view_count": null,
            "_view_module_version": "1.5.0",
            "orientation": "horizontal",
            "min": 0,
            "description_tooltip": null,
            "_model_module": "@jupyter-widgets/controls",
            "layout": "IPY_MODEL_ce9cfe5edfe042a8b2e52124cab26958"
          }
        },
        "244b402219394f8e867eb16cee763d8a": {
          "model_module": "@jupyter-widgets/controls",
          "model_name": "HTMLModel",
          "state": {
            "_view_name": "HTMLView",
            "style": "IPY_MODEL_99e267e65bf8451a8445e8869ab57388",
            "_dom_classes": [],
            "description": "",
            "_model_name": "HTMLModel",
            "placeholder": "​",
            "_view_module": "@jupyter-widgets/controls",
            "_model_module_version": "1.5.0",
            "value": " 35/35 [00:01&lt;00:00, 33.25it/s]",
            "_view_count": null,
            "_view_module_version": "1.5.0",
            "description_tooltip": null,
            "_model_module": "@jupyter-widgets/controls",
            "layout": "IPY_MODEL_b48024d372474fb784b91278be1bc74a"
          }
        },
        "025fd012b50b407d8dc6c1bf87924b1b": {
          "model_module": "@jupyter-widgets/controls",
          "model_name": "ProgressStyleModel",
          "state": {
            "_view_name": "StyleView",
            "_model_name": "ProgressStyleModel",
            "description_width": "initial",
            "_view_module": "@jupyter-widgets/base",
            "_model_module_version": "1.5.0",
            "_view_count": null,
            "_view_module_version": "1.2.0",
            "bar_color": null,
            "_model_module": "@jupyter-widgets/controls"
          }
        },
        "ce9cfe5edfe042a8b2e52124cab26958": {
          "model_module": "@jupyter-widgets/base",
          "model_name": "LayoutModel",
          "state": {
            "_view_name": "LayoutView",
            "grid_template_rows": null,
            "right": null,
            "justify_content": null,
            "_view_module": "@jupyter-widgets/base",
            "overflow": null,
            "_model_module_version": "1.2.0",
            "_view_count": null,
            "flex_flow": null,
            "width": null,
            "min_width": null,
            "border": null,
            "align_items": null,
            "bottom": null,
            "_model_module": "@jupyter-widgets/base",
            "top": null,
            "grid_column": null,
            "overflow_y": null,
            "overflow_x": null,
            "grid_auto_flow": null,
            "grid_area": null,
            "grid_template_columns": null,
            "flex": null,
            "_model_name": "LayoutModel",
            "justify_items": null,
            "grid_row": null,
            "max_height": null,
            "align_content": null,
            "visibility": null,
            "align_self": null,
            "height": null,
            "min_height": null,
            "padding": null,
            "grid_auto_rows": null,
            "grid_gap": null,
            "max_width": null,
            "order": null,
            "_view_module_version": "1.2.0",
            "grid_template_areas": null,
            "object_position": null,
            "object_fit": null,
            "grid_auto_columns": null,
            "margin": null,
            "display": null,
            "left": null
          }
        },
        "99e267e65bf8451a8445e8869ab57388": {
          "model_module": "@jupyter-widgets/controls",
          "model_name": "DescriptionStyleModel",
          "state": {
            "_view_name": "StyleView",
            "_model_name": "DescriptionStyleModel",
            "description_width": "",
            "_view_module": "@jupyter-widgets/base",
            "_model_module_version": "1.5.0",
            "_view_count": null,
            "_view_module_version": "1.2.0",
            "_model_module": "@jupyter-widgets/controls"
          }
        },
        "b48024d372474fb784b91278be1bc74a": {
          "model_module": "@jupyter-widgets/base",
          "model_name": "LayoutModel",
          "state": {
            "_view_name": "LayoutView",
            "grid_template_rows": null,
            "right": null,
            "justify_content": null,
            "_view_module": "@jupyter-widgets/base",
            "overflow": null,
            "_model_module_version": "1.2.0",
            "_view_count": null,
            "flex_flow": null,
            "width": null,
            "min_width": null,
            "border": null,
            "align_items": null,
            "bottom": null,
            "_model_module": "@jupyter-widgets/base",
            "top": null,
            "grid_column": null,
            "overflow_y": null,
            "overflow_x": null,
            "grid_auto_flow": null,
            "grid_area": null,
            "grid_template_columns": null,
            "flex": null,
            "_model_name": "LayoutModel",
            "justify_items": null,
            "grid_row": null,
            "max_height": null,
            "align_content": null,
            "visibility": null,
            "align_self": null,
            "height": null,
            "min_height": null,
            "padding": null,
            "grid_auto_rows": null,
            "grid_gap": null,
            "max_width": null,
            "order": null,
            "_view_module_version": "1.2.0",
            "grid_template_areas": null,
            "object_position": null,
            "object_fit": null,
            "grid_auto_columns": null,
            "margin": null,
            "display": null,
            "left": null
          }
        }
      }
    }
  },
  "cells": [
    {
      "cell_type": "code",
      "metadata": {
        "id": "fk3EbAoQ4D1e"
      },
      "source": [
        "# Imports\n",
        "import torch\n",
        "from torch.utils.data import DataLoader\n",
        "import torch.nn as nn\n",
        "import torch.nn.functional as F\n",
        "from torchvision import models, transforms\n",
        "from torchsummary import summary\n",
        "import torch.optim as optim\n",
        "from torch.autograd import Variable\n",
        "from time import time\n",
        "\n",
        "from skimage.io import imread\n",
        "from skimage.color import rgb2gray\n",
        "import os\n",
        "import matplotlib.pyplot as plt\n",
        "from IPython.display import clear_output\n",
        "import numpy as np\n",
        "import torchvision.datasets as datasets\n",
        "import skimage.io as io\n",
        "from skimage.transform import resize\n",
        "import natsort\n",
        "from natsort import natsorted\n",
        "from numpy import asarray\n",
        "from tqdm.notebook import tqdm\n"
      ],
      "execution_count": 1,
      "outputs": []
    },
    {
      "cell_type": "code",
      "metadata": {
        "id": "OsSF75Iu7Wzy",
        "colab": {
          "base_uri": "https://localhost:8080/"
        },
        "outputId": "f88166ff-6506-4ce0-969d-beff8bc7f6cd"
      },
      "source": [
        "# Check if GPU is available\n",
        "if torch.cuda.is_available():\n",
        "    print(\"The code will run on GPU.\")\n",
        "else:\n",
        "    print(\"The code will run on CPU. Go to Edit->Notebook Settings and choose GPU as the hardware accelerator\")\n",
        "device = torch.device('cuda' if torch.cuda.is_available() else 'cpu')"
      ],
      "execution_count": 2,
      "outputs": [
        {
          "output_type": "stream",
          "text": [
            "The code will run on GPU.\n"
          ],
          "name": "stdout"
        }
      ]
    },
    {
      "cell_type": "code",
      "metadata": {
        "id": "vGc9PnMg9TMx",
        "colab": {
          "base_uri": "https://localhost:8080/"
        },
        "outputId": "bab38d21-4163-4393-b2d8-ddd85bc8ed5e"
      },
      "source": [
        "from google.colab import drive\n",
        "# This will prompt for authorization.\n",
        "\n",
        "drive.mount('/content/drive/')\n",
        "!ls '/content/drive/'"
      ],
      "execution_count": 13,
      "outputs": [
        {
          "output_type": "stream",
          "text": [
            "Drive already mounted at /content/drive/; to attempt to forcibly remount, call drive.mount(\"/content/drive/\", force_remount=True).\n",
            "MyDrive\n"
          ],
          "name": "stdout"
        }
      ]
    },
    {
      "cell_type": "code",
      "metadata": {
        "id": "St7S9f7R4vM0"
      },
      "source": [
        "# import our helper functions needed in the notebook.\r\n",
        "import sys\r\n",
        "drive_path = '/content/drive/MyDrive/warwick_qu_dataset_released_2016_07_08/Warwick QU Dataset (Released 2016_07_08)/detection'\r\n",
        "sys.path.insert(0, drive_path)\r\n",
        "import project_utils\r\n",
        "from project_utils import *"
      ],
      "execution_count": 31,
      "outputs": []
    },
    {
      "cell_type": "code",
      "metadata": {
        "id": "FrvZ-R-B9e3m",
        "colab": {
          "base_uri": "https://localhost:8080/"
        },
        "outputId": "e9cc04d6-b190-4e5a-d71b-bdd5b4a3d900"
      },
      "source": [
        "trainpath = '/content/drive/MyDrive/warwick_qu_dataset_released_2016_07_08/Warwick QU Dataset (Released 2016_07_08)/train' # there are a total of 330 images in the train file\n",
        "\n",
        "X, Y = get_data(path=trainpath, start=0, end=80, size=(256,256))"
      ],
      "execution_count": null,
      "outputs": [
        {
          "output_type": "stream",
          "text": [
            "['train_1.bmp', 'train_2.bmp', 'train_3.bmp', 'train_4.bmp', 'train_6.bmp', 'train_7.bmp', 'train_8.bmp', 'train_9.bmp', 'train_10.bmp', 'train_12.bmp', 'train_13.bmp', 'train_14.bmp', 'train_15.bmp', 'train_17.bmp', 'train_18.bmp', 'train_19.bmp', 'train_20.bmp', 'train_21.bmp', 'train_22.bmp', 'train_23.bmp', 'train_24.bmp', 'train_25.bmp', 'train_26.bmp', 'train_27.bmp', 'train_28.bmp', 'train_29.bmp', 'train_30.bmp', 'train_31.bmp', 'train_32.bmp', 'train_33.bmp', 'train_34.bmp', 'train_35.bmp', 'train_36.bmp', 'train_38.bmp', 'train_39.bmp', 'train_40.bmp', 'train_41.bmp', 'train_42.bmp', 'train_43.bmp', 'train_44.bmp', 'train_45.bmp', 'train_46.bmp', 'train_47.bmp', 'train_48.bmp', 'train_49.bmp', 'train_50.bmp', 'train_51.bmp', 'train_52.bmp', 'train_53.bmp', 'train_54.bmp', 'train_55.bmp', 'train_56.bmp', 'train_58.bmp', 'train_59.bmp', 'train_60.bmp', 'train_61.bmp', 'train_62.bmp', 'train_63.bmp', 'train_64.bmp', 'train_65.bmp', 'train_66.bmp', 'train_67.bmp', 'train_68.bmp', 'train_69.bmp', 'train_70.bmp', 'train_71.bmp', 'train_72.bmp', 'train_73.bmp', 'train_74.bmp', 'train_75.bmp', 'train_76.bmp', 'train_77.bmp', 'train_78.bmp', 'train_79.bmp', 'train_80.bmp', 'train_81.bmp', 'train_82.bmp', 'train_83.bmp', 'train_84.bmp', 'train_85.bmp']\n"
          ],
          "name": "stdout"
        }
      ]
    },
    {
      "cell_type": "code",
      "metadata": {
        "id": "5OoH6eD7_RMA",
        "colab": {
          "base_uri": "https://localhost:8080/"
        },
        "outputId": "c78904a9-2e06-4b31-a500-c4362a867e0a"
      },
      "source": [
        "nr = 1\n",
        "X_ex = np.moveaxis(X[nr], 0, -1)\n",
        "Y_ex = Y[nr]\n",
        "print(X_ex.shape)\n",
        "print(Y_ex.shape)"
      ],
      "execution_count": null,
      "outputs": [
        {
          "output_type": "stream",
          "text": [
            "(256, 256, 3)\n",
            "(256, 256)\n"
          ],
          "name": "stdout"
        }
      ]
    },
    {
      "cell_type": "code",
      "metadata": {
        "colab": {
          "base_uri": "https://localhost:8080/",
          "height": 287
        },
        "id": "Q-bNmKQy55ev",
        "outputId": "3c0b516a-bbd1-4854-b4c0-ba7789ad4a6a"
      },
      "source": [
        "# Veiw some images\n",
        "nr = 0\n",
        "# plt.imshow(X[nr])\n",
        "plt.imshow(Y[nr])"
      ],
      "execution_count": null,
      "outputs": [
        {
          "output_type": "execute_result",
          "data": {
            "text/plain": [
              "<matplotlib.image.AxesImage at 0x7fc50c061da0>"
            ]
          },
          "metadata": {
            "tags": []
          },
          "execution_count": 7
        },
        {
          "output_type": "display_data",
          "data": {
            "image/png": "[encoded data removed]",
            "text/plain": [
              "<Figure size 432x288 with 1 Axes>"
            ]
          },
          "metadata": {
            "tags": [],
            "needs_background": "light"
          }
        }
      ]
    },
    {
      "cell_type": "code",
      "metadata": {
        "id": "vMQ7mHoW-7oM",
        "colab": {
          "base_uri": "https://localhost:8080/"
        },
        "cellView": "form",
        "outputId": "ebe1cf9b-ad9e-44c2-b2ae-69f0d5433401"
      },
      "source": [
        "#@title\n",
        "# mask = io.imread('/content/sample_data/testA_9_anno.bmp')\n",
        "# mask = np.array(mask)\n",
        "# obj_ids = np.unique(mask)\n",
        "# # first id is the background, so remove it\n",
        "# obj_ids = obj_ids[1:]\n",
        "\n",
        "# # split the color-encoded mask into a set\n",
        "# # of binary masks\n",
        "# masks = mask == obj_ids[:, None, None]\n",
        "\n",
        "# # get bounding box coordinates for each mask\n",
        "# num_objs = len(obj_ids)\n",
        "# boxes = []\n",
        "# for i in range(num_objs):\n",
        "#     pos = np.where(masks[i])\n",
        "#     xmin = np.min(pos[1])\n",
        "#     xmax = np.max(pos[1])\n",
        "#     ymin = np.min(pos[0])\n",
        "#     ymax = np.max(pos[0])\n",
        "#     boxes.append([xmin, ymin, xmax, ymax])\n",
        "\n",
        "# len(boxes)"
      ],
      "execution_count": null,
      "outputs": [
        {
          "output_type": "execute_result",
          "data": {
            "text/plain": [
              "14"
            ]
          },
          "metadata": {
            "tags": []
          },
          "execution_count": 2
        }
      ]
    },
    {
      "cell_type": "code",
      "metadata": {
        "id": "-noPbHH7_GJ2",
        "cellView": "form"
      },
      "source": [
        "#@title\n",
        "# import matplotlib.patches as mpatches\n",
        "\n",
        "# fig, ax = plt.subplots(figsize=(10, 6))\n",
        "# ax.imshow(mask)\n",
        "\n",
        "# for i in boxes:\n",
        "#     # take regions with large enough areas\n",
        "#     # if region.area >= 10:\n",
        "#     # draw rectangle around segmented coins\n",
        "#     xmin, ymin, xmax, ymax = i\n",
        "#     rect = mpatches.Rectangle((xmin, ymin), xmax-xmin, ymax-ymin,\n",
        "#                               fill=False, edgecolor='red', linewidth=2)\n",
        "#     ax.add_patch(rect)\n",
        "\n",
        "# ax.set_axis_off()\n",
        "# plt.tight_layout()\n",
        "# plt.show()"
      ],
      "execution_count": null,
      "outputs": []
    },
    {
      "cell_type": "code",
      "metadata": {
        "id": "MkGetX9X7XEU"
      },
      "source": [
        "\"\"\" Parts of the U-Net model \"\"\"\n",
        "\n",
        "import torch\n",
        "import torch.nn as nn\n",
        "import torch.nn.functional as F\n",
        "\n",
        "\n",
        "class DoubleConv(nn.Module):\n",
        "    \"\"\"(convolution => [BN] => ReLU) * 2\"\"\"\n",
        "\n",
        "    def __init__(self, in_channels, out_channels, mid_channels=None):\n",
        "        super().__init__()\n",
        "        if not mid_channels:\n",
        "            mid_channels = out_channels\n",
        "        self.double_conv = nn.Sequential(\n",
        "            nn.Conv2d(in_channels, mid_channels, kernel_size=3, padding=1),\n",
        "            nn.BatchNorm2d(mid_channels),\n",
        "            nn.ReLU(inplace=True),\n",
        "            nn.Conv2d(mid_channels, out_channels, kernel_size=3, padding=1),\n",
        "            nn.BatchNorm2d(out_channels),\n",
        "            nn.ReLU(inplace=True)\n",
        "        )\n",
        "\n",
        "    def forward(self, x):\n",
        "        return self.double_conv(x)\n",
        "\n",
        "\n",
        "class Down(nn.Module):\n",
        "    \"\"\"Downscaling with maxpool then double conv\"\"\"\n",
        "\n",
        "    def __init__(self, in_channels, out_channels):\n",
        "        super().__init__()\n",
        "        self.maxpool_conv = nn.Sequential(\n",
        "            nn.MaxPool2d(2),\n",
        "            DoubleConv(in_channels, out_channels)\n",
        "        )\n",
        "\n",
        "    def forward(self, x):\n",
        "        return self.maxpool_conv(x)\n",
        "\n",
        "\n",
        "class Up(nn.Module):\n",
        "    \"\"\"Upscaling then double conv\"\"\"\n",
        "\n",
        "    def __init__(self, in_channels, out_channels, bilinear=True):\n",
        "        super().__init__()\n",
        "\n",
        "        # if bilinear, use the normal convolutions to reduce the number of channels\n",
        "        if bilinear:\n",
        "            self.up = nn.Upsample(scale_factor=2, mode='bilinear', align_corners=True)\n",
        "            self.conv = DoubleConv(in_channels, out_channels, in_channels // 2)\n",
        "        else:\n",
        "            self.up = nn.ConvTranspose2d(in_channels , in_channels // 2, kernel_size=2, stride=2)\n",
        "            self.conv = DoubleConv(in_channels, out_channels)\n",
        "\n",
        "\n",
        "    def forward(self, x1, x2):\n",
        "        x1 = self.up(x1)\n",
        "        # input is CHW\n",
        "        diffY = x2.size()[2] - x1.size()[2]\n",
        "        diffX = x2.size()[3] - x1.size()[3]\n",
        "\n",
        "        x1 = F.pad(x1, [diffX // 2, diffX - diffX // 2,\n",
        "                        diffY // 2, diffY - diffY // 2])\n",
        "        x = torch.cat([x2, x1], dim=1)\n",
        "        \n",
        "        return self.conv(x)\n",
        "\n",
        "\n",
        "class OutConv(nn.Module):\n",
        "    def __init__(self, in_channels, out_channels):\n",
        "        super(OutConv, self).__init__()\n",
        "        self.conv = nn.Conv2d(in_channels, out_channels, kernel_size=1)\n",
        "\n",
        "    def forward(self, x):\n",
        "        return self.conv(x)"
      ],
      "execution_count": null,
      "outputs": []
    },
    {
      "cell_type": "code",
      "metadata": {
        "id": "fJH46pCG8774"
      },
      "source": [
        "\"\"\" Full assembly of the parts to form the complete network \"\"\"\n",
        "\n",
        "import torch.nn.functional as F\n",
        "\n",
        "# from .unet_parts import *\n",
        "\n",
        "\n",
        "class UNet(nn.Module):\n",
        "    def __init__(self, n_channels=3, n_classes=1, bilinear=True):\n",
        "        super(UNet, self).__init__()\n",
        "        self.n_channels = n_channels\n",
        "        self.n_classes = n_classes\n",
        "        self.bilinear = bilinear\n",
        "\n",
        "        self.inc = DoubleConv(n_channels, 64)\n",
        "        self.down1 = Down(64, 128)\n",
        "        self.down2 = Down(128, 256)\n",
        "        self.down3 = Down(256, 512)\n",
        "        factor = 2 if bilinear else 1\n",
        "        self.down4 = Down(512, 1024 // factor)\n",
        "        self.up1 = Up(1024, 512 // factor, bilinear)\n",
        "        self.up2 = Up(512, 256 // factor, bilinear)\n",
        "        self.up3 = Up(256, 128 // factor, bilinear)\n",
        "        self.up4 = Up(128, 64, bilinear)\n",
        "        self.outc = OutConv(64, n_classes)\n",
        "\n",
        "    def forward(self, x):\n",
        "        x1 = self.inc(x)\n",
        "        x2 = self.down1(x1)\n",
        "        x3 = self.down2(x2)\n",
        "        x4 = self.down3(x3)\n",
        "        x5 = self.down4(x4)\n",
        "        x = self.up1(x5, x4)\n",
        "        x = self.up2(x, x3)\n",
        "        x = self.up3(x, x2)\n",
        "        x = self.up4(x, x1)\n",
        "        logits = self.outc(x)\n",
        "        return logits"
      ],
      "execution_count": null,
      "outputs": []
    },
    {
      "cell_type": "code",
      "metadata": {
        "id": "tT5A_NnmGgGU",
        "cellView": "form"
      },
      "source": [
        "#@title\n",
        "# a = torch.arange(0, 4).unsqueeze(0).unsqueeze(2).expand(2, -1, 4, 3)\n",
        "# b = torch.arange(3, 6).unsqueeze(0).unsqueeze(2).expand(2, -1, 4)\n",
        "# a = torch.empty(10, 1, 5, 5)\n",
        "# b = torch.ones(10, 5, 5)\n",
        "# print(a.shape, b.shape)\n",
        "# b = b.unsqueeze(1)\n",
        "# # b = torch.cat([a, b], dim=1)\n",
        "# print(b[1])\n",
        "# b[1] = a[1]\n",
        "# print('a[1]:', a[1])\n",
        "# print(b[1])\n",
        "# print('new size b:', b.shape)"
      ],
      "execution_count": null,
      "outputs": []
    },
    {
      "cell_type": "code",
      "metadata": {
        "id": "r-UvK-fN90Ob"
      },
      "source": [
        "def focal_loss(y_pred, y_real, gamma=2):\n",
        "    y_pred = torch.clamp(F.sigmoid(y_pred), 1e-8, 1-1e-8)\n",
        "    # gamma = 2\n",
        "    return -torch.mean(((1-y_pred)**gamma)*y_real*torch.log(y_pred) + (1-y_real)*torch.log(1-y_pred))"
      ],
      "execution_count": null,
      "outputs": []
    },
    {
      "cell_type": "code",
      "metadata": {
        "id": "beLDHdnu92Aq"
      },
      "source": [
        "batch_size = 4\n",
        "dataloader2 = DataLoader(list(zip(X, Y)), batch_size=batch_size, shuffle=True)"
      ],
      "execution_count": null,
      "outputs": []
    },
    {
      "cell_type": "code",
      "metadata": {
        "id": "D1zUaDnC94OR",
        "colab": {
          "base_uri": "https://localhost:8080/",
          "height": 462
        },
        "outputId": "68031d83-41d3-4f27-b2c5-2a0edf3855fc"
      },
      "source": [
        "# Predefine input size \n",
        "n_channels = 3\n",
        "n_classes = 2\n",
        "# Next creat an instance of the UNet model\n",
        "modelUnet = UNet().to(device)\n",
        "\n",
        "criterion = torch.nn.BCEWithLogitsLoss()\n",
        "\n",
        "# Now define the optimizer\n",
        "optimizerUnet = optim.Adam(modelUnet.parameters(), lr = 0.00001, weight_decay=0)\n",
        "\n",
        "# And finally lets train the model\n",
        "# train(modelUnet, optimizerUnet, focal_loss, 500, dataloader2, print_status=True)\n",
        "model_out = train(modelUnet, optimizerUnet, criterion, 200, dataloader2, print_status=True)"
      ],
      "execution_count": null,
      "outputs": [
        {
          "output_type": "display_data",
          "data": {
            "image/png": "[encoded data removed]",
            "text/plain": [
              "<Figure size 432x288 with 8 Axes>"
            ]
          },
          "metadata": {
            "tags": [],
            "needs_background": "light"
          }
        },
        {
          "output_type": "display_data",
          "data": {
            "image/png": "[encoded data removed]",
            "text/plain": [
              "<Figure size 432x288 with 1 Axes>"
            ]
          },
          "metadata": {
            "tags": [],
            "needs_background": "light"
          }
        }
      ]
    },
    {
      "cell_type": "code",
      "metadata": {
        "colab": {
          "base_uri": "https://localhost:8080/"
        },
        "id": "o8VwwAip54ZL",
        "outputId": "9bd2cde0-9f24-4461-d567-d2f533c7e39e"
      },
      "source": [
        "X_batch, Y_batch = next(iter(dataloader2))\n",
        "# X = X[0].to(device)\n",
        "# X = Variable(torch.from_numpy(X[0]))\n",
        "model_out.eval()  # testing mode\n",
        "Y_hat = F.sigmoid(model_out(X_batch.to(device))).detach().cpu()\n",
        "# Y_batch[5:] = 0\n",
        "# Y_hat[5:] = 0"
      ],
      "execution_count": null,
      "outputs": [
        {
          "output_type": "stream",
          "text": [
            "/usr/local/lib/python3.6/dist-packages/torch/nn/functional.py:1639: UserWarning: nn.functional.sigmoid is deprecated. Use torch.sigmoid instead.\n",
            "  warnings.warn(\"nn.functional.sigmoid is deprecated. Use torch.sigmoid instead.\")\n"
          ],
          "name": "stderr"
        }
      ]
    },
    {
      "cell_type": "code",
      "metadata": {
        "colab": {
          "base_uri": "https://localhost:8080/",
          "height": 595
        },
        "id": "5YnyG6NT-r5q",
        "outputId": "9d3fe1a5-ee5a-4950-980e-936682ee07c1"
      },
      "source": [
        "# 0=white, 1=black\n",
        "\n",
        "view_mask(targets=Y_batch, output=Y_hat, n=2)"
      ],
      "execution_count": null,
      "outputs": [
        {
          "output_type": "display_data",
          "data": {
            "image/png": "[encoded data removed]",
            "text/plain": [
              "<Figure size 1080x720 with 4 Axes>"
            ]
          },
          "metadata": {
            "tags": [],
            "needs_background": "light"
          }
        }
      ]
    },
    {
      "cell_type": "code",
      "metadata": {
        "colab": {
          "base_uri": "https://localhost:8080/"
        },
        "id": "tI38CPNsA8VZ",
        "outputId": "2e782940-ed77-4150-c8e7-ab0d0efeb527"
      },
      "source": [
        "testpath = '/content/drive/MyDrive/warwick_qu_dataset_released_2016_07_08/Warwick QU Dataset (Released 2016_07_08)/test' # there are a total of 330 images in the train file\r\n",
        "\r\n",
        "X, Y = get_data(path=testpath, start=0, end=70, size=(256,256))\r\n",
        "batch_size = 2\r\n",
        "dataloader_test = DataLoader(list(zip(X, Y)), batch_size=batch_size, shuffle=False)"
      ],
      "execution_count": null,
      "outputs": [
        {
          "output_type": "stream",
          "text": [
            "['testA_1.bmp', 'testA_2.bmp', 'testA_3.bmp', 'testA_4.bmp', 'testA_5 (1).bmp', 'testA_5.bmp', 'testA_6.bmp', 'testA_7.bmp', 'testA_9.bmp', 'testA_10.bmp', 'testA_11.bmp', 'testA_13.bmp', 'testA_14.bmp', 'testA_15.bmp', 'testA_16.bmp', 'testA_17.bmp', 'testA_18.bmp', 'testA_19.bmp', 'testA_20.bmp', 'testA_21.bmp', 'testA_22.bmp', 'testA_23.bmp', 'testA_24.bmp', 'testA_25.bmp', 'testA_26.bmp', 'testA_27.bmp', 'testA_28.bmp', 'testA_29.bmp', 'testA_30.bmp', 'testA_31.bmp', 'testA_32.bmp', 'testA_33.bmp', 'testA_35.bmp', 'testA_36.bmp', 'testA_37.bmp', 'testA_38.bmp', 'testA_39.bmp', 'testA_40.bmp', 'testA_41.bmp', 'testA_42.bmp', 'testA_43.bmp', 'testA_44.bmp', 'testA_45.bmp', 'testA_46.bmp', 'testA_47.bmp', 'testA_49.bmp', 'testA_50.bmp', 'testA_51.bmp', 'testA_52.bmp', 'testA_53.bmp', 'testA_54.bmp', 'testA_55.bmp', 'testA_58.bmp', 'testA_60.bmp', 'testB_1.bmp', 'testB_2.bmp', 'testB_3.bmp', 'testB_4.bmp', 'testB_5.bmp', 'testB_6.bmp', 'testB_7.bmp', 'testB_8.bmp', 'testB_10.bmp', 'testB_11.bmp', 'testB_13.bmp', 'testB_14.bmp', 'testB_17.bmp', 'testB_18.bmp', 'testB_19.bmp', 'testB_20.bmp']\n"
          ],
          "name": "stdout"
        }
      ]
    },
    {
      "cell_type": "code",
      "metadata": {
        "colab": {
          "base_uri": "https://localhost:8080/",
          "height": 158,
          "referenced_widgets": [
            "5686a3464f18414fa085c2295078c0a0",
            "281dea66dfeb4f5c87edd8de34322461",
            "e5717e7411c144379d4d4c4b955d0281",
            "244b402219394f8e867eb16cee763d8a",
            "025fd012b50b407d8dc6c1bf87924b1b",
            "ce9cfe5edfe042a8b2e52124cab26958",
            "99e267e65bf8451a8445e8869ab57388",
            "b48024d372474fb784b91278be1bc74a"
          ]
        },
        "id": "On63KbqsA3q2",
        "outputId": "bbf7a248-54bf-4ff8-b790-194af950ba29"
      },
      "source": [
        "# Get IoU scores for test set\r\n",
        "\r\n",
        "IoU_scores_list = []\r\n",
        "dice_coef_scores_list = []\r\n",
        "f1_scores_list = []\r\n",
        "skipped = 0\r\n",
        "for X_batch, Y_batch in tqdm(dataloader_test): # dataloader2\r\n",
        "  model_out.eval()  # testing mode\r\n",
        "  Y_hat = F.sigmoid(model_out(X_batch.to(device))).detach().cpu()\r\n",
        "  # print(len(Y_hat))\r\n",
        "  # print(len(Y_batch))\r\n",
        "  for i in range(len(Y_batch)):\r\n",
        "    # target (true) masks\r\n",
        "    target_im = Y_batch[i].cpu().detach().numpy()\r\n",
        "    target_im[target_im>0.5] = 1\r\n",
        "    target_im[target_im<0.5] = 0\r\n",
        "    target_im = target_im.astype('int64')\r\n",
        "    # output (predicted) masks\r\n",
        "    output_im = Y_hat[i][0, :, :].cpu().detach().numpy()\r\n",
        "    output_im[output_im>0.485] = 1\r\n",
        "    output_im[output_im<0.485] = 0\r\n",
        "    output_im = output_im.astype('int64')\r\n",
        "\r\n",
        "    if target_im.shape != output_im.shape:\r\n",
        "      skipped+=1\r\n",
        "      continue\r\n",
        "\r\n",
        "    # print(np.unique(target_im))\r\n",
        "    # print(np.unique(output_im))\r\n",
        "    # target_im_list = target_im.tolist()\r\n",
        "    # output_im_list = output_im.tolist()\r\n",
        "    f1_score = get_f1_score(target_im, output_im)\r\n",
        "    f1_scores_list.append(f1_score)\r\n",
        "\r\n",
        "    dice_coef_score = dice_coef(y_real=target_im, y_pred=output_im)\r\n",
        "    dice_coef_scores_list.append(dice_coef_score)\r\n",
        "    IoU_score = IoU(y_real=target_im, y_pred=output_im) \r\n",
        "    IoU_scores_list.append(IoU_score)\r\n",
        "\r\n",
        "print('mean IoU score for test set:', np.mean(IoU_scores_list))\r\n",
        "print('mean Dice Coefficient score for test set:', np.mean(dice_coef_scores_list)) # Not sure of correct\r\n",
        "print('f1 score for test set:', np.mean(f1_scores_list))"
      ],
      "execution_count": null,
      "outputs": [
        {
          "output_type": "display_data",
          "data": {
            "application/vnd.jupyter.widget-view+json": {
              "model_id": "5686a3464f18414fa085c2295078c0a0",
              "version_minor": 0,
              "version_major": 2
            },
            "text/plain": [
              "HBox(children=(FloatProgress(value=0.0, max=35.0), HTML(value='')))"
            ]
          },
          "metadata": {
            "tags": []
          }
        },
        {
          "output_type": "stream",
          "text": [
            "/usr/local/lib/python3.6/dist-packages/torch/nn/functional.py:1639: UserWarning: nn.functional.sigmoid is deprecated. Use torch.sigmoid instead.\n",
            "  warnings.warn(\"nn.functional.sigmoid is deprecated. Use torch.sigmoid instead.\")\n"
          ],
          "name": "stderr"
        },
        {
          "output_type": "stream",
          "text": [
            "\n",
            "mean IoU score for test set: 0.31181829048528614\n",
            "mean Dice Coefficient score for test set: 0.840566907610212\n",
            "f1 score for test set: 0.8482238262196622\n"
          ],
          "name": "stdout"
        }
      ]
    },
    {
      "cell_type": "code",
      "metadata": {
        "colab": {
          "base_uri": "https://localhost:8080/"
        },
        "id": "a66KNhD67wud",
        "outputId": "9971f987-eeee-4553-9c80-131c8cf2aebd"
      },
      "source": [
        "skipped"
      ],
      "execution_count": null,
      "outputs": [
        {
          "output_type": "execute_result",
          "data": {
            "text/plain": [
              "0"
            ]
          },
          "metadata": {
            "tags": []
          },
          "execution_count": 69
        }
      ]
    }
  ]
}